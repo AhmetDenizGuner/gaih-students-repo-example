{
 "cells": [
  {
   "cell_type": "code",
   "execution_count": 1,
   "metadata": {},
   "outputs": [],
   "source": [
    "questionDict = {\"Atatürk kaç yılında doğmuştur?\" : \"1938\",\n",
    "               \"Fransanın Başkenti neresidir?\" : \"Paris\",\n",
    "               \"2015-2016 sezonun gol kralı kimdir?\" : \"Gomez\",\n",
    "               \"Pandas bir Python modülüdür Doğru/Yanlış ?\" : \"Doğru\",\n",
    "               \"NBA de ilk ve tek all-star olan Türk oyunucunun lakabı nedir?\": \"Memo\",\n",
    "               \"HTML bir progamlama dilidir Doğru/Yanlış ?\" : \"Yanlış\",\n",
    "               \"Makedonyanın başkenti neresidir?\": \"Üsküp\",\n",
    "                \"İtalyanın en ünlü yemeği nedir?\" : \"Pizza\",\n",
    "                \"Havanın sıcaklığını ölçen altet nedir?\" : \"Termometre\",\n",
    "                \"Marsa en yakın uydusunun adı nedir?\" : \"Phobos\"\n",
    "               }"
   ]
  },
  {
   "cell_type": "code",
   "execution_count": null,
   "metadata": {},
   "outputs": [],
   "source": [
    "totalScore = 0\n",
    "for i in questionDict.keys():\n",
    "    answer = str(input(i + \": \"))\n",
    "    if answer.strip().lower() == questionDict[i].lower():\n",
    "        totalScore +=1\n",
    "        print(\"Dogru!!!\")\n",
    "    else:\n",
    "        print(\"Yanlıs!!!\")\n",
    "print(\"\\n\\n\")\n",
    "if totalScore > 5:\n",
    "    print(\"Tebrikler kazandınız :)) \")\n",
    "else:\n",
    "    print(\"Malesef kaybettiniz :( \")\n",
    "print(\"Skorunuz: \" + str(totalScore))"
   ]
  }
 ],
 "metadata": {
  "kernelspec": {
   "display_name": "Python 3",
   "language": "python",
   "name": "python3"
  },
  "language_info": {
   "codemirror_mode": {
    "name": "ipython",
    "version": 3
   },
   "file_extension": ".py",
   "mimetype": "text/x-python",
   "name": "python",
   "nbconvert_exporter": "python",
   "pygments_lexer": "ipython3",
   "version": "3.7.6"
  }
 },
 "nbformat": 4,
 "nbformat_minor": 4
}

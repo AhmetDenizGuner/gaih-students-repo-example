{
 "cells": [
  {
   "cell_type": "code",
   "execution_count": null,
   "metadata": {},
   "outputs": [],
   "source": [
    "# Bu homeworkde try/except kullanmadım error kontrolü yok, bu beceriyi 3. assignment da kullandım.\n",
    "cvDict= {}\n",
    "for i in range(5):\n",
    "    isim = input(str(i+1) + \". kisinin ismini girininz: \")\n",
    "    yas = input(str(i+1) + \". kisinin yasini girininz: \")\n",
    "    okul = input(str(i+1) + \". kisinin okulunu girininz: \")\n",
    "    meslek = input(str(i+1) + \". kisinin meslegin girininz: \")\n",
    "    tecrubeYili = input(str(i+1) + \". kisinin tecrube yılını girininz: \")\n",
    "    print()\n",
    "    cvDict[i] = {\"ad\": isim,\"yas\":yas,\"okul\":okul,\"meslek\": meslek,\"tecrubeYili\":tecrubeYili}\n"
   ]
  },
  {
   "cell_type": "code",
   "execution_count": null,
   "metadata": {},
   "outputs": [],
   "source": [
    "for i in range(5):\n",
    "    print(str(i+1) + \". kişinin adı: \" + str(cvDict[i][\"ad\"]) + \" yasi: \" + str(cvDict[i][\"yas\"]) + \" okulu: \" +\n",
    "                str(cvDict[i][\"okul\"]) + \" meslegi: \" + str(cvDict[i][\"meslek\"]) + \" tecrubesi: \" \n",
    "                      + str(cvDict[i][\"tecrubeYili\"]) + \"\\n\" )"
   ]
  }
 ],
 "metadata": {
  "kernelspec": {
   "display_name": "Python 3",
   "language": "python",
   "name": "python3"
  },
  "language_info": {
   "codemirror_mode": {
    "name": "ipython",
    "version": 3
   },
   "file_extension": ".py",
   "mimetype": "text/x-python",
   "name": "python",
   "nbconvert_exporter": "python",
   "pygments_lexer": "ipython3",
   "version": "3.7.6"
  }
 },
 "nbformat": 4,
 "nbformat_minor": 4
}

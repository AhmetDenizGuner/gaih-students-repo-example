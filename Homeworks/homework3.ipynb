{
 "cells": [
  {
   "cell_type": "code",
   "execution_count": null,
   "metadata": {},
   "outputs": [],
   "source": [
    "studentDict = {}\n",
    "\n",
    "def passGradeCalculator(mid,pro,fin):\n",
    "    return ((3*mid) + (3*pro) + (4*fin)) / 10\n",
    "\n",
    "i = 0\n",
    "while i < 5:\n",
    "    try:\n",
    "        isim = input(str(i+1) + \". Öğrencinin adını girin: \")\n",
    "        midterm = int(input(str(i+1) + \". Öğrencinin vize notunu girin: \"))\n",
    "        project = int(input(str(i+1) + \". Öğrencinin ödev notunu girin: \"))\n",
    "        final =  int(input(str(i+1) + \". Öğrencinin final notunu girin: \"))\n",
    "        print()\n",
    "    except ValueError:\n",
    "        print(\"Lütfen öğrenci notları için tam sayı değerleri giriniz\")\n",
    "        continue\n",
    "    studentDict[i] = {\"ad\": isim, \"vize\": midterm,\"projec\":project,\"final\":final,\"gecmeNotu\": passGradeCalculator(midterm,project,final)}\n",
    "    i += 1\n",
    "    "
   ]
  },
  {
   "cell_type": "code",
   "execution_count": null,
   "metadata": {},
   "outputs": [],
   "source": [
    "passGrades = [studentDict[i][\"gecmeNotu\"] for i in range(5) ]\n",
    "passGrades.sort()\n",
    "passGrades.reverse()\n",
    "print(passGrades)"
   ]
  },
  {
   "cell_type": "code",
   "execution_count": null,
   "metadata": {},
   "outputs": [],
   "source": []
  }
 ],
 "metadata": {
  "kernelspec": {
   "display_name": "Python 3",
   "language": "python",
   "name": "python3"
  },
  "language_info": {
   "codemirror_mode": {
    "name": "ipython",
    "version": 3
   },
   "file_extension": ".py",
   "mimetype": "text/x-python",
   "name": "python",
   "nbconvert_exporter": "python",
   "pygments_lexer": "ipython3",
   "version": "3.7.6"
  }
 },
 "nbformat": 4,
 "nbformat_minor": 4
}

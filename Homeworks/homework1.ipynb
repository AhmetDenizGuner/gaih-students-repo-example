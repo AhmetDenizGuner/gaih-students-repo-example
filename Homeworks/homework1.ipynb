{
 "cells": [
  {
   "cell_type": "code",
   "execution_count": 2,
   "metadata": {},
   "outputs": [
    {
     "name": "stdout",
     "output_type": "stream",
     "text": [
      "0 nin type'ı: <class 'int'>\n",
      "4 nin type'ı: <class 'int'>\n",
      "8 nin type'ı: <class 'int'>\n",
      "12 nin type'ı: <class 'int'>\n",
      "16 nin type'ı: <class 'int'>\n",
      "2 nin type'ı: <class 'int'>\n",
      "6 nin type'ı: <class 'int'>\n",
      "10 nin type'ı: <class 'int'>\n",
      "14 nin type'ı: <class 'int'>\n",
      "18 nin type'ı: <class 'int'>\n"
     ]
    }
   ],
   "source": [
    "oddList = []\n",
    "evenList = []\n",
    "\n",
    "[evenList.append(x) if x%2 == 0 else oddList.append(x) for x in range(10)]\n",
    "\n",
    "nums = evenList.extend(oddList)\n",
    "\n",
    "nums = [x*2 for x in evenList]\n",
    "\n",
    "for i in nums:\n",
    "    print(str(i) + \" nin type'ı: \" +  str(type(i)))"
   ]
  },
  {
   "cell_type": "code",
   "execution_count": null,
   "metadata": {},
   "outputs": [],
   "source": []
  }
 ],
 "metadata": {
  "kernelspec": {
   "display_name": "Python 3",
   "language": "python",
   "name": "python3"
  },
  "language_info": {
   "codemirror_mode": {
    "name": "ipython",
    "version": 3
   },
   "file_extension": ".py",
   "mimetype": "text/x-python",
   "name": "python",
   "nbconvert_exporter": "python",
   "pygments_lexer": "ipython3",
   "version": "3.7.6"
  }
 },
 "nbformat": 4,
 "nbformat_minor": 4
}
